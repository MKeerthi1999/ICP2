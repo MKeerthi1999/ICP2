{
  "nbformat": 4,
  "nbformat_minor": 0,
  "metadata": {
    "colab": {
      "provenance": [],
      "authorship_tag": "ABX9TyMQdcpQF1A0oC8PBhE4FHXY"
    },
    "kernelspec": {
      "name": "python3",
      "display_name": "Python 3"
    },
    "language_info": {
      "name": "python"
    }
  },
  "cells": [
    {
      "cell_type": "code",
      "execution_count": 1,
      "metadata": {
        "colab": {
          "base_uri": "https://localhost:8080/"
        },
        "id": "4nE9tZyD9yK2",
        "outputId": "d2487a79-dd56-4be0-ae0e-68eeea882725"
      },
      "outputs": [
        {
          "output_type": "stream",
          "name": "stdout",
          "text": [
            "Average Salary: 60000.0\n",
            "Total no.of Employees: 5\n",
            "Total no.of Full Time Employees: 3\n"
          ]
        }
      ],
      "source": [
        "class Employee:\n",
        "    # Class variable to count the no.of employees\n",
        "    employee_count = 0\n",
        "    total_salary = 0\n",
        "\n",
        "    def __init__(self, name, family, salary, department):\n",
        "        # Initiate the instance variables\n",
        "        self.name = name\n",
        "        self.family = family\n",
        "        self.salary = salary\n",
        "        self.department = department\n",
        "\n",
        "        # Incrementing the total count of employees and total salary.\n",
        "        Employee.employee_count += 1\n",
        "        Employee.total_salary += salary\n",
        "\n",
        "    @classmethod\n",
        "    def average_salary(cls):\n",
        "        # Method to calculate the average salary.\n",
        "        if cls.employee_count == 0:\n",
        "            return 0\n",
        "        return cls.total_salary / cls.employee_count\n",
        "\n",
        "\n",
        "# Fulltime Employee class inheriting from Employee\n",
        "class FulltimeEmployee(Employee):\n",
        "    fulltime_Employee_count = 0\n",
        "\n",
        "    def __init__(self, name, family, salary, department):\n",
        "        # Calling the constructor of the parent class\n",
        "        super().__init__(name, family, salary, department)\n",
        "\n",
        "        FulltimeEmployee.fulltime_Employee_count += 1\n",
        "\n",
        "\n",
        "# Creating instances of Employee and FulltimeEmployee\n",
        "emp1 = Employee(\"Keerthi\", \"Medarametla\", 40000, \"Team Lead\")\n",
        "emp2 = Employee(\"Arun\", \"Kodali\", 50000, \"Architect\")\n",
        "emp3 = FulltimeEmployee(\"Yousef\", \"Khan\", 60000, \"Development\")\n",
        "emp4 = FulltimeEmployee(\"Sania\", \"Mirza\", 70000, \"HR\")\n",
        "emp5 = FulltimeEmployee(\"Prabhas\", \"Uppalapati\", 80000, \"Manager\")\n",
        "\n",
        "# Print the average salary\n",
        "print(f\"Average Salary: {Employee.average_salary()}\")\n",
        "\n",
        "# Print the total number of employees\n",
        "print(f\"Total no.of Employees: {Employee.employee_count}\")\n",
        "\n",
        "# Print the total number of full time employees\n",
        "print(f\"Total no.of Full Time Employees: {FulltimeEmployee.fulltime_Employee_count}\")\n"
      ]
    },
    {
      "cell_type": "code",
      "source": [
        "import numpy as np\n",
        "\n",
        "# Create a random vector of size 20 with floats in the range 1-20\n",
        "random_vector = np.random.uniform(1, 20, 20)\n",
        "\n",
        "# Reshape the array to 4 by 5\n",
        "reshaped_array = random_vector.reshape(4, 5)\n",
        "\n",
        "# Replace the max in each row by 0\n",
        "# Using np.argmax to find the indices of the max in each row\n",
        "max_indices = np.argmax(reshaped_array, axis=1)\n",
        "\n",
        "# Creating a copy of the reshaped array to modify\n",
        "modified_array = reshaped_array.copy()\n",
        "\n",
        "# Replace the max values in each row with 0\n",
        "modified_array[np.arange(modified_array.shape[0]), max_indices] = 0\n",
        "\n",
        "# Output\n",
        "print(\"Original 4x5 matrix:\")\n",
        "print(reshaped_array)\n",
        "\n",
        "print(\"\\nModified 4x5 matrix (max in each row replaced with 0):\")\n",
        "print(modified_array)\n"
      ],
      "metadata": {
        "colab": {
          "base_uri": "https://localhost:8080/"
        },
        "id": "PGBK4Eoo_X9u",
        "outputId": "e1732239-c584-460d-fd8e-541b13ac35ff"
      },
      "execution_count": 2,
      "outputs": [
        {
          "output_type": "stream",
          "name": "stdout",
          "text": [
            "Original 4x5 matrix:\n",
            "[[ 1.29274655 12.34049182  5.90999562  4.3292888  15.35169889]\n",
            " [12.26075616  6.1911705  10.63524894  2.74833962 17.5546925 ]\n",
            " [ 3.8188975  19.2446535  10.23262607 18.78420247  9.91417233]\n",
            " [15.36985423  3.03862736 10.58226121  5.28735581 11.93133356]]\n",
            "\n",
            "Modified 4x5 matrix (max in each row replaced with 0):\n",
            "[[ 1.29274655 12.34049182  5.90999562  4.3292888   0.        ]\n",
            " [12.26075616  6.1911705  10.63524894  2.74833962  0.        ]\n",
            " [ 3.8188975   0.         10.23262607 18.78420247  9.91417233]\n",
            " [ 0.          3.03862736 10.58226121  5.28735581 11.93133356]]\n"
          ]
        }
      ]
    }
  ]
}
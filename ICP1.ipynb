{
  "nbformat": 4,
  "nbformat_minor": 0,
  "metadata": {
    "colab": {
      "provenance": [],
      "authorship_tag": "ABX9TyMJxXRFeAW0JP6FtSJZVxk+"
    },
    "kernelspec": {
      "name": "python3",
      "display_name": "Python 3"
    },
    "language_info": {
      "name": "python"
    }
  },
  "cells": [
    {
      "cell_type": "code",
      "execution_count": 5,
      "metadata": {
        "id": "4nE9tZyD9yK2"
      },
      "outputs": [],
      "source": []
    },
    {
      "cell_type": "code",
      "source": [],
      "metadata": {
        "id": "PdDB7ZH5cFY9"
      },
      "execution_count": null,
      "outputs": []
    },
    {
      "cell_type": "code",
      "source": [
        "def fullname(firstname, lastname):\n",
        "  return firstname+\" \"+ lastname\n",
        "\n",
        "firstname = input('Enter your first name: ')\n",
        "lastname = input('Enter your last name: ')\n",
        "print('Your fullname: ', fullname(firstname, lastname))"
      ],
      "metadata": {
        "colab": {
          "base_uri": "https://localhost:8080/"
        },
        "id": "PGBK4Eoo_X9u",
        "outputId": "7fcebe51-d1e2-4f04-da49-6340da433e4d"
      },
      "execution_count": 3,
      "outputs": [
        {
          "output_type": "stream",
          "name": "stdout",
          "text": [
            "Enter your first name: Bhargav\n",
            "Enter your last name: Angirekula\n",
            "Your fullname:  Bhargav Angirekula\n"
          ]
        }
      ]
    },
    {
      "cell_type": "code",
      "source": [
        "def string_alternative(full_name):\n",
        "  out_str = \"\"\n",
        "  counter = 0\n",
        "  for i in full_name:\n",
        "    if counter == 0:\n",
        "      out_str += i\n",
        "      counter = 1\n",
        "    else:\n",
        "      counter = 0\n",
        "  return out_str\n",
        "\n",
        "def main():\n",
        "  first_name = input('Enter your first name: ')\n",
        "  last_name = input('Enter your last name: ')\n",
        "  full_name = first_name+\" \"+last_name\n",
        "  print('Alternatively formatted name: ', string_alternative(full_name))\n",
        "\n",
        "if __name__ == \"__main__\":\n",
        "  main()"
      ],
      "metadata": {
        "colab": {
          "base_uri": "https://localhost:8080/"
        },
        "id": "E9DvzVyIe29k",
        "outputId": "81a2d086-f5ef-467d-eb81-3f346d19ea88"
      },
      "execution_count": 4,
      "outputs": [
        {
          "output_type": "stream",
          "name": "stdout",
          "text": [
            "Enter your first name: Good\n",
            "Enter your last name: evening\n",
            "Alternatively formatted name:  Go vnn\n"
          ]
        }
      ]
    },
    {
      "cell_type": "code",
      "source": [
        "inp_file = open(\"/content/input.txt\", \"r\")\n",
        "out_file = open(\"/content/output.txt\", \"w\")\n",
        "data = {}\n",
        "\n",
        "for i in inp_file:\n",
        "  out_file.write(i)\n",
        "  para_line = i.split()\n",
        "  for j in para_line:\n",
        "    if(data.get(j) == None):\n",
        "      data[j] = 1\n",
        "    else:\n",
        "      data[j] += 1\n",
        "out_file.write(\"\\nWord_Count: \\n \")\n",
        "for key, value in data.items():\n",
        "  out_file.write('%s:%s\\n'%(key, value))\n",
        "inp_file.close()\n",
        "out_file.close()\n"
      ],
      "metadata": {
        "id": "DnOlDmoJfCEg"
      },
      "execution_count": null,
      "outputs": []
    },
    {
      "cell_type": "code",
      "source": [
        "def InchtoCentimeters(value):\n",
        "  return value*2.54\n",
        "\n",
        "cust_heights = []\n",
        "centi_heights = []\n",
        "listelements = int(input('Enter number of elements in the list: '))\n",
        "for i in range(listelements):\n",
        "  element = int(input('Enter the height: '))\n",
        "  cust_heights.append(element)\n",
        "for ele in cust_heights:\n",
        "  value = int(ele)\n",
        "  centi_heights.append(InchtoCentimeters(value))\n",
        "print(\"Heights in centimeter: \", centi_heights)\n",
        ""
      ],
      "metadata": {
        "colab": {
          "base_uri": "https://localhost:8080/"
        },
        "id": "MeF6-BElfKKA",
        "outputId": "76264893-9661-421e-d9e4-54fcbc704fa5"
      },
      "execution_count": 5,
      "outputs": [
        {
          "output_type": "stream",
          "name": "stdout",
          "text": [
            "Enter number of elements in the list: 4\n",
            "Enter the height: 150\n",
            "Enter the height: 155\n",
            "Enter the height: 145\n",
            "Enter the height: 148\n",
            "Heights in centimeter:  [381.0, 393.7, 368.3, 375.92]\n"
          ]
        }
      ]
    }
  ]
}